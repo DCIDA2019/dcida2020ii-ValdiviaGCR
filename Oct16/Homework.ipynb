{
 "cells": [
  {
   "cell_type": "markdown",
   "metadata": {},
   "source": [
    "# HOMEWORK: Carlos Roberto Valdivia Garcia"
   ]
  },
  {
   "cell_type": "markdown",
   "metadata": {},
   "source": [
    "## 1.- Derive Bayes theorem from $p(x,y)=p(y,x)$."
   ]
  },
  {
   "cell_type": "markdown",
   "metadata": {},
   "source": [
    "### Tenemos de la regla del producto\n",
    "### $p(x,y)=p(x|y)p(y)$\n",
    "### y partiendo de\n",
    "### $p(x,y)=p(y,x)$\n",
    "### tenemos entonces \n",
    "### $p(x,y)=p(x|y)p(y)=p(y|x)p(x)=p(y,x)$\n",
    "### y despejando de la expresión anteior tenemos finalmente:\n",
    "### $p(y|x)=\\frac{p(x|y)p(y)}{p(x)}$"
   ]
  },
  {
   "cell_type": "markdown",
   "metadata": {},
   "source": []
  },
  {
   "cell_type": "markdown",
   "metadata": {},
   "source": [
    "## 2.- Las catafixias de chabelo:"
   ]
  },
  {
   "cell_type": "markdown",
   "metadata": {},
   "source": [
    "### Hay 3 puertas,detrás de una hay un premio. Supongamos que eliges la puerta 2, Chabelo abre la puerta 1 y allí no hay un premio. ¿Te quedas con tu elección original o cambias a la puerta 3?"
   ]
  },
  {
   "cell_type": "markdown",
   "metadata": {},
   "source": [
    "Si sólo escojo una de las 3 puertas, tendré una probabilidad de escoger una puerta que contenga el premio será igual a $p(ganar)=\\frac{1}{3}$, pero si después de haber elegido una puerta y Chabelo abre una de las no escogidas la cuál no contiene el premio y se nos da la opción de escoger entre las dos restantes, uno pensaría que la probabilidad de ganar si cambiamos nuestra elección inicial sería $1/2$ pero en realidad eso no es cierto, el teorema de Bayes nos permite encontrar la verdadera probabilidad. Si definimos de la demostración anterior:"
   ]
  },
  {
   "cell_type": "markdown",
   "metadata": {},
   "source": [
    "### -$p(y)\\rightarrow$ Probabilidad de elegir la puerta que NO contiene el premio antes de cambiar la elección incial."
   ]
  },
  {
   "cell_type": "markdown",
   "metadata": {},
   "source": [
    "### -$p(x|y) \\rightarrow$ Probabilidad de obtener el premio al cambiar la elección inicial por la opción restante dado que inicialmente había elegido una que NO contenía el premio."
   ]
  },
  {
   "cell_type": "markdown",
   "metadata": {},
   "source": [
    "### -$p(x) \\rightarrow$ Probabilidad de obtener el premio el premio si se cambia a la opción restante."
   ]
  },
  {
   "cell_type": "markdown",
   "metadata": {},
   "source": [
    "### -$p(y|x) \\rightarrow$ Probabilidad  de escoger una puerta errónea inicialmente dado que al cambiar de opinión se elige la que SÍ contiene el premio."
   ]
  },
  {
   "cell_type": "markdown",
   "metadata": {},
   "source": [
    "donde:\n",
    "### $p(x)$ es nuestra probabilidad de interés.\n",
    "### $p(y)=\\frac{2}{3}$\n",
    "### $p(x|y)=1$\n",
    "### $p(y|x)=1$\n",
    "### y del teorema de Bayes tenemos entonces que:\n",
    "### $p(x)=\\frac{(1)(\\frac{2}{3})}{(1)}= \\frac{2}{3}$"
   ]
  },
  {
   "cell_type": "markdown",
   "metadata": {},
   "source": [
    "### por el resultado anterior vemos que si mantenemos la elección inicial tenemos $1/3$ de probabilidad de ganar el premio, pero si elegimos cambiar nuestra opción inicial una vez que se nos revela una de las puertas sin el premio la probabilidad de elegir la puerta con el premio es $2/3$. \n",
    "## Por lo tanto es más conveniente cambiar de elección."
   ]
  },
  {
   "cell_type": "markdown",
   "metadata": {},
   "source": []
  },
  {
   "cell_type": "markdown",
   "metadata": {},
   "source": [
    "# 3.-MCMC Metropolis Algorithm:"
   ]
  },
  {
   "cell_type": "markdown",
   "metadata": {},
   "source": [
    "### Implement it in Python and make sure it works for the example of the straight line, but do it in a way it is easy to change data, model, likelihood and prior."
   ]
  },
  {
   "cell_type": "code",
   "execution_count": 1,
   "metadata": {},
   "outputs": [],
   "source": [
    "%matplotlib inline\n",
    "import numpy as np\n",
    "import matplotlib.pyplot as plt"
   ]
  },
  {
   "cell_type": "code",
   "execution_count": 4,
   "metadata": {},
   "outputs": [
    {
     "data": {
      "image/png": "[encoded data removed]",
      "text/plain": [
       "<Figure size 432x288 with 1 Axes>"
      ]
     },
     "metadata": {
      "needs_background": "light"
     },
     "output_type": "display_data"
    }
   ],
   "source": [
    "arr = np.load('fit_exercise.npy')\n",
    "x= arr[0]\n",
    "y= arr[1]\n",
    "z=arr[2]\n",
    "plt.plot(arr[0], arr[1], 'o', label='Original data', markersize=3)\n",
    "plt.grid()"
   ]
  },
  {
   "cell_type": "code",
   "execution_count": 7,
   "metadata": {},
   "outputs": [
    {
     "name": "stdout",
     "output_type": "stream",
     "text": [
      "-0.9821623517930427 4.57785930375336\n"
     ]
    },
    {
     "data": {
      "image/png": "[encoded data removed]",
      "text/plain": [
       "<Figure size 432x288 with 1 Axes>"
      ]
     },
     "metadata": {
      "needs_background": "light"
     },
     "output_type": "display_data"
    }
   ],
   "source": [
    "#Ajuste\n",
    "A = np.vstack([arr[0], np.ones(len(arr[0]))]).T\n",
    "p, b = np.linalg.lstsq(A, arr[1], rcond=None)[0]\n",
    "\n",
    "print(p, b)\n",
    "plt.plot(x, y, 'o', label='Original data', markersize=2)\n",
    "plt.plot(arr[0], p*arr[0] + b, 'b', label='Fitted line')\n",
    "plt.errorbar(arr[0], arr[1],yerr= arr[2],ls='',label='both limits (default)')\n",
    "plt.legend()\n",
    "plt.show()"
   ]
  },
  {
   "cell_type": "code",
   "execution_count": 11,
   "metadata": {},
   "outputs": [],
   "source": [
    "Old=[-0.98,4.47,0.05]\n",
    "New=np.zeros(3)\n",
    "\n",
    "def log_prior(theta):\n",
    "    alpha, beta, sigma = theta\n",
    "    if sigma < 0:\n",
    "        return -np.inf  # log(0)\n",
    "    else:\n",
    "        return -1.5 * np.log(1 + beta ** 2) - np.log(sigma)\n",
    "\n",
    "def log_likelihood(theta, x, y):\n",
    "    alpha, beta, sigma = theta\n",
    "    y_model = alpha + beta * x\n",
    "    return -0.5 * np.sum(np.log(2 * np.pi * sigma ** 2) + (y - y_model) ** 2 / sigma ** 2)\n",
    "\n",
    "def log_posterior(theta, x, y):\n",
    "    return log_prior(theta) + log_likelihood(theta, x, y)"
   ]
  },
  {
   "cell_type": "code",
   "execution_count": 12,
   "metadata": {},
   "outputs": [],
   "source": [
    "def muestreo(Old, x, y):   \n",
    "    #calculamos las propuestas de los parámetros de la recta de manera aleatoria\n",
    "    New[0]=  np.random.normal(Old[0], Old[2])\n",
    "    New[1]=  np.random.normal(Old[1], Old[2])\n",
    "    New[2]=Old[2]\n",
    "\n",
    "    #calculamos el posterior para el caso anterior y el nuevo (aleatorio)\n",
    "    P_Old = -log_posterior(Old,x,y)\n",
    "    P_New = -log_posterior(New,x,y)\n",
    "\n",
    "\n",
    "    #si es mayor el nuevo posterior lo aceptamos\n",
    "    if P_New>P_Old:\n",
    "\n",
    "            Old= New\n",
    "    \n",
    "    #si no es mayor comparamos la división del posterior nuevo con el anterior con un número al azar entre cero y 1, si es mayor \n",
    "    #lo aceptamos       \n",
    "    else:\n",
    "\n",
    "            P_Ok = P_New / P_Old\n",
    "            accept = np.random.rand() \n",
    "\n",
    "            if accept< P_Ok:\n",
    "            # Update position\n",
    "                Old= New\n",
    "   \n",
    "    return Old"
   ]
  },
  {
   "cell_type": "code",
   "execution_count": 13,
   "metadata": {},
   "outputs": [
    {
     "data": {
      "image/png": "[encoded data removed]",
      "text/plain": [
       "<Figure size 432x288 with 1 Axes>"
      ]
     },
     "metadata": {
      "needs_background": "light"
     },
     "output_type": "display_data"
    },
    {
     "name": "stdout",
     "output_type": "stream",
     "text": [
      "pendiente -0.9793700454224209\n",
      "ordenada al origen 4.470775354617627\n"
     ]
    }
   ],
   "source": [
    "#graficamos los resultados de los parámetros\n",
    "Oldie=[Old]\n",
    "for i in range(1000):\n",
    "    Oldie=np.append(Oldie,[muestreo(Old,x,y)],axis=0)\n",
    "\n",
    "plt.grid()\n",
    "plt.title('Parámetros')\n",
    "plt.ylabel('$\\\\beta$')\n",
    "plt.xlabel('$\\\\alpha$')\n",
    "plt.scatter(Oldie[:,0],Oldie[:,1], marker='.', c='b')\n",
    "plt.show()\n",
    "\n",
    "#imprimimos la media de los resultados de los parámetros\n",
    "print('pendiente '+str(np.mean(Oldie[:,0])))\n",
    "print('ordenada al origen '+str(np.mean(Oldie[:,1])))\n"
   ]
  },
  {
   "cell_type": "code",
   "execution_count": null,
   "metadata": {},
   "outputs": [],
   "source": []
  }
 ],
 "metadata": {
  "kernelspec": {
   "display_name": "Python 3",
   "language": "python",
   "name": "python3"
  },
  "language_info": {
   "codemirror_mode": {
    "name": "ipython",
    "version": 3
   },
   "file_extension": ".py",
   "mimetype": "text/x-python",
   "name": "python",
   "nbconvert_exporter": "python",
   "pygments_lexer": "ipython3",
   "version": "3.7.7"
  }
 },
 "nbformat": 4,
 "nbformat_minor": 4
}
