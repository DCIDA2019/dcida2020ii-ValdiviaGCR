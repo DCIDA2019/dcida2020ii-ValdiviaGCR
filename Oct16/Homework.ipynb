{
 "cells": [
  {
   "cell_type": "markdown",
   "metadata": {},
   "source": [
    "# HOMEWORK:"
   ]
  },
  {
   "cell_type": "markdown",
   "metadata": {},
   "source": [
    "## 1.- Derive Bayes theorem from $p(x,y)=p(y,x)$."
   ]
  },
  {
   "cell_type": "markdown",
   "metadata": {},
   "source": [
    "### Tenemos de la regla del producto\n",
    "### $p(x,y)=p(x|y)p(y)$\n",
    "### y partiendo de\n",
    "### $p(x,y)=p(y,x)$\n",
    "### tenemos entonces \n",
    "### $p(x,y)=p(x|y)p(y)=p(y|x)p(x)=p(y,x)$\n",
    "### y despejando de la expresión anteior tenemos finalmente:\n",
    "### $p(y|x)=\\frac{p(x|y)p(y)}{p(x)}$"
   ]
  },
  {
   "cell_type": "markdown",
   "metadata": {},
   "source": []
  },
  {
   "cell_type": "markdown",
   "metadata": {},
   "source": [
    "## 2.- Las catafixias de chabelo:"
   ]
  },
  {
   "cell_type": "markdown",
   "metadata": {},
   "source": [
    "### Hay 3 puertas,detrás de una hay un premio. Supongamos que eliges la puerta 2, Chabelo abre la puerta 1 y allí no hay un premio. ¿Te quedas con tu elección original o cambias a la puerta 3?"
   ]
  },
  {
   "cell_type": "markdown",
   "metadata": {},
   "source": [
    "Si sólo escojo una de las 3 puertas, tendré una probabilidad de escoger una puerta que contenga el premio será igual a $p(ganar)=\\frac{1}{3}$, pero si después de haber elegido una puerta y Chabelo abre una de las no escogidas la cuál no contiene el premio y se nos da la opción de escoger entre las dos restantes, uno pensaría que la probabilidad de ganar si cambiamos nuestra elección inicial sería $1/2$ pero en realidad eso no es cierto, el teorema de Bayes nos permite encontrar la verdadera probabilidad. Si definimos de la demostración anterior:"
   ]
  },
  {
   "cell_type": "markdown",
   "metadata": {},
   "source": [
    "### -$p(y)\\rightarrow$ Probabilidad de elegir la puerta que NO contiene el premio antes de cambiar la elección incial."
   ]
  },
  {
   "cell_type": "markdown",
   "metadata": {},
   "source": [
    "### -$p(x|y) \\rightarrow$ Probabilidad de obtener el premio al cambiar la elección inicial por la opción restante dado que inicialmente había elegido una que NO contenía el premio."
   ]
  },
  {
   "cell_type": "markdown",
   "metadata": {},
   "source": [
    "### -$p(x) \\rightarrow$ Probabilidad de obtener el premio el premio si se cambia a la opción restante."
   ]
  },
  {
   "cell_type": "markdown",
   "metadata": {},
   "source": [
    "### -$p(y|x) \\rightarrow$ Probabilidad  de escoger una puerta errónea inicialmente dado que al cambiar de opinión se elige la que SÍ contiene el premio."
   ]
  },
  {
   "cell_type": "markdown",
   "metadata": {},
   "source": [
    "donde:\n",
    "### $p(x)$ es nuestra probabilidad de interés.\n",
    "### $p(y)=\\frac{2}{3}$\n",
    "### $p(x|y)=1$\n",
    "### $p(y|x)=1$\n",
    "### y del teorema de Bayes tenemos entonces que:\n",
    "### $p(x)=\\frac{(1)(\\frac{2}{3})}{(1)}= \\frac{2}{3}$"
   ]
  },
  {
   "cell_type": "markdown",
   "metadata": {},
   "source": [
    "### por el resultado anterior vemos que si mantenemos la elección inicial tenemos $1/3$ de probabilidad de ganar el premio, pero si elegimos cambiar nuestra opción inicial una vez que se nos revela una de las puertas sin el premio la probabilidad de elegir la puerta con el premio es $2/3$. \n",
    "## Por lo tanto es más conveniente cambiar de elección."
   ]
  },
  {
   "cell_type": "markdown",
   "metadata": {},
   "source": []
  },
  {
   "cell_type": "code",
   "execution_count": null,
   "metadata": {},
   "outputs": [],
   "source": []
  }
 ],
 "metadata": {
  "kernelspec": {
   "display_name": "Python 3",
   "language": "python",
   "name": "python3"
  },
  "language_info": {
   "codemirror_mode": {
    "name": "ipython",
    "version": 3
   },
   "file_extension": ".py",
   "mimetype": "text/x-python",
   "name": "python",
   "nbconvert_exporter": "python",
   "pygments_lexer": "ipython3",
   "version": "3.7.7"
  }
 },
 "nbformat": 4,
 "nbformat_minor": 4
}
