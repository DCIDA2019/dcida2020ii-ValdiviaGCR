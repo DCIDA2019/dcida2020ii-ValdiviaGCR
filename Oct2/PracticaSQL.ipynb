{
 "cells": [
  {
   "cell_type": "code",
   "execution_count": 26,
   "metadata": {},
   "outputs": [],
   "source": [
    "import sqlite3"
   ]
  },
  {
   "cell_type": "markdown",
   "metadata": {},
   "source": [
    "Crear un obtejto \"connection\" para manejar base de datos, lo podemos crear o leer de bases de datos de formato SQL:"
   ]
  },
  {
   "cell_type": "code",
   "execution_count": 27,
   "metadata": {},
   "outputs": [],
   "source": [
    "connection = sqlite3.connect(\"company.db\")"
   ]
  },
  {
   "cell_type": "markdown",
   "metadata": {},
   "source": [
    "en SQL se haría tecleando \"CREATE DATABASE company;\""
   ]
  },
  {
   "cell_type": "code",
   "execution_count": 28,
   "metadata": {},
   "outputs": [],
   "source": [
    "cursor = connection.cursor()"
   ]
  },
  {
   "cell_type": "code",
   "execution_count": 33,
   "metadata": {},
   "outputs": [
    {
     "data": {
      "text/plain": [
       "<sqlite3.Cursor at 0x7fc160e1dea0>"
      ]
     },
     "execution_count": 33,
     "metadata": {},
     "output_type": "execute_result"
    }
   ],
   "source": [
    "#ingresar comando sql\n",
    "sql_command = \"\"\"\n",
    "CREATE TABLE employee ( \n",
    "staff_number INTEGER PRIMARY KEY, \n",
    "fname VARCHAR(20), \n",
    "lname VARCHAR(30), \n",
    "gender CHAR(1), \n",
    "joining DATE,\n",
    "birth_date DATE);\"\"\"\n",
    "#ejecutar el comando en sql\n",
    "cursor.execute(sql_command)"
   ]
  },
  {
   "cell_type": "code",
   "execution_count": 36,
   "metadata": {},
   "outputs": [],
   "source": [
    "# delete \n",
    "#cursor.execute(\"\"\"DROP TABLE employee;\"\"\")"
   ]
  },
  {
   "cell_type": "code",
   "execution_count": 34,
   "metadata": {},
   "outputs": [
    {
     "data": {
      "text/plain": [
       "<sqlite3.Cursor at 0x7fc160e1dea0>"
      ]
     },
     "execution_count": 34,
     "metadata": {},
     "output_type": "execute_result"
    }
   ],
   "source": [
    "sql_command = \"\"\"INSERT INTO employee (staff_number, fname, lname, gender, birth_date)\n",
    "                 VALUES (NULL, \"William\", \"Shakespeare\", \"m\", \"1961-10-25\");\"\"\"\n",
    "\n",
    "cursor.execute(sql_command)"
   ]
  },
  {
   "cell_type": "code",
   "execution_count": 35,
   "metadata": {},
   "outputs": [
    {
     "data": {
      "text/plain": [
       "<sqlite3.Cursor at 0x7fc160e1dea0>"
      ]
     },
     "execution_count": 35,
     "metadata": {},
     "output_type": "execute_result"
    }
   ],
   "source": [
    "sql_command = \"\"\"INSERT INTO employee (staff_number, fname, lname, gender, birth_date)\n",
    "    VALUES (NULL, \"Frank\", \"Schiller\", \"m\", \"1955-08-17\");\"\"\"\n",
    "cursor.execute(sql_command)"
   ]
  },
  {
   "cell_type": "code",
   "execution_count": 37,
   "metadata": {},
   "outputs": [],
   "source": [
    "# never forget this, if you want the changes to be saved:\n",
    "connection.commit()\n",
    "\n",
    "connection.close()"
   ]
  },
  {
   "cell_type": "code",
   "execution_count": null,
   "metadata": {},
   "outputs": [],
   "source": []
  },
  {
   "cell_type": "code",
   "execution_count": 38,
   "metadata": {},
   "outputs": [],
   "source": [
    "conn = sqlite3.connect(\"company.db\")"
   ]
  },
  {
   "cell_type": "code",
   "execution_count": 39,
   "metadata": {},
   "outputs": [],
   "source": [
    "cur = conn.cursor()"
   ]
  },
  {
   "cell_type": "code",
   "execution_count": 45,
   "metadata": {},
   "outputs": [
    {
     "data": {
      "text/plain": [
       "<sqlite3.Cursor at 0x7fc160df5ce0>"
      ]
     },
     "execution_count": 45,
     "metadata": {},
     "output_type": "execute_result"
    }
   ],
   "source": [
    "cur.execute(\"select * from employee limit 2;\")"
   ]
  },
  {
   "cell_type": "code",
   "execution_count": 46,
   "metadata": {},
   "outputs": [
    {
     "name": "stdout",
     "output_type": "stream",
     "text": [
      "[(1, 'William', 'Shakespeare', 'm', None, '1961-10-25'), (2, 'Frank', 'Schiller', 'm', None, '1955-08-17')]\n"
     ]
    }
   ],
   "source": [
    "results = cur.fetchall()\n",
    "print(results)"
   ]
  },
  {
   "cell_type": "code",
   "execution_count": 47,
   "metadata": {},
   "outputs": [
    {
     "data": {
      "text/plain": [
       "<sqlite3.Cursor at 0x7fc160df5ce0>"
      ]
     },
     "execution_count": 47,
     "metadata": {},
     "output_type": "execute_result"
    }
   ],
   "source": [
    "sql_command = \"\"\"\n",
    "CREATE TABLE boss ( \n",
    "staff_number INTEGER PRIMARY KEY, \n",
    "fname VARCHAR(20), \n",
    "lname VARCHAR(30), \n",
    "gender CHAR(1), \n",
    "joining DATE,\n",
    "birth_date DATE);\"\"\"\n",
    "#ejecutar el comando en sql\n",
    "cur.execute(sql_command)"
   ]
  },
  {
   "cell_type": "code",
   "execution_count": 49,
   "metadata": {},
   "outputs": [],
   "source": [
    "staff_data = [ (\"Homer\", \"J. Simpson\", \"m\", \"1961-10-25\"),\n",
    "               (\"Edgar\", \"Preciado\", \"m\", \"1955-08-17\"),\n",
    "               (\"Paloma\", \"J. Simpson\", \"f\", \"1989-03-14\") ]\n",
    "               \n",
    "for p in staff_data:\n",
    "    format_str = \"\"\"INSERT INTO boss (staff_number, fname, lname, gender, birth_date)\n",
    "    VALUES (NULL, \"{first}\", \"{last}\", \"{gender}\", \"{birthdate}\");\"\"\"\n",
    "\n",
    "    sql_command = format_str.format(first=p[0], last=p[1], gender=p[2], birthdate = p[3])\n",
    "    cur.execute(sql_command)"
   ]
  },
  {
   "cell_type": "code",
   "execution_count": 51,
   "metadata": {},
   "outputs": [],
   "source": [
    "conn.commit()"
   ]
  },
  {
   "cell_type": "code",
   "execution_count": 54,
   "metadata": {},
   "outputs": [
    {
     "name": "stdout",
     "output_type": "stream",
     "text": [
      "[(1, 'Homer', 'J. Simpson', 'm', None, '1955-05-05'), (2, 'Homer', 'J. Simpson', 'm', None, '1961-10-25'), (3, 'Edgar', 'Preciado', 'm', None, '1955-08-17'), (4, 'Paloma', 'J. Simpson', 'f', None, '1989-03-14')]\n"
     ]
    }
   ],
   "source": [
    "cur.execute(\"select * from boss limit 4;\")\n",
    "results = cur.fetchall()\n",
    "print(results)"
   ]
  },
  {
   "cell_type": "code",
   "execution_count": 55,
   "metadata": {},
   "outputs": [],
   "source": [
    "conn.close()"
   ]
  },
  {
   "cell_type": "code",
   "execution_count": 60,
   "metadata": {},
   "outputs": [
    {
     "name": "stdout",
     "output_type": "stream",
     "text": [
      "[('Homer', 'J. Simpson'), ('Homer', 'J. Simpson'), ('Edgar', 'Preciado'), ('Paloma', 'J. Simpson')]\n"
     ]
    }
   ],
   "source": [
    "import sqlite3\n",
    "import pandas as pd\n",
    "\n",
    "conn = sqlite3.connect(\"company.db\")\n",
    "cur = conn.cursor()\n",
    "coords = cur.execute(\"\"\"\n",
    "select fname,\n",
    "lname\n",
    "from boss;\"\"\").fetchall()\n",
    "print(coords)"
   ]
  },
  {
   "cell_type": "code",
   "execution_count": 68,
   "metadata": {},
   "outputs": [
    {
     "data": {
      "text/html": [
       "<div>\n",
       "<style scoped>\n",
       "    .dataframe tbody tr th:only-of-type {\n",
       "        vertical-align: middle;\n",
       "    }\n",
       "\n",
       "    .dataframe tbody tr th {\n",
       "        vertical-align: top;\n",
       "    }\n",
       "\n",
       "    .dataframe thead th {\n",
       "        text-align: right;\n",
       "    }\n",
       "</style>\n",
       "<table border=\"1\" class=\"dataframe\">\n",
       "  <thead>\n",
       "    <tr style=\"text-align: right;\">\n",
       "      <th></th>\n",
       "      <th>staff_number</th>\n",
       "      <th>fname</th>\n",
       "      <th>lname</th>\n",
       "      <th>gender</th>\n",
       "      <th>joining</th>\n",
       "      <th>birth_date</th>\n",
       "    </tr>\n",
       "  </thead>\n",
       "  <tbody>\n",
       "    <tr>\n",
       "      <th>0</th>\n",
       "      <td>1</td>\n",
       "      <td>Homer</td>\n",
       "      <td>J. Simpson</td>\n",
       "      <td>m</td>\n",
       "      <td>None</td>\n",
       "      <td>1955-05-05</td>\n",
       "    </tr>\n",
       "    <tr>\n",
       "      <th>1</th>\n",
       "      <td>2</td>\n",
       "      <td>Homer</td>\n",
       "      <td>J. Simpson</td>\n",
       "      <td>m</td>\n",
       "      <td>None</td>\n",
       "      <td>1961-10-25</td>\n",
       "    </tr>\n",
       "    <tr>\n",
       "      <th>2</th>\n",
       "      <td>3</td>\n",
       "      <td>Edgar</td>\n",
       "      <td>Preciado</td>\n",
       "      <td>m</td>\n",
       "      <td>None</td>\n",
       "      <td>1955-08-17</td>\n",
       "    </tr>\n",
       "    <tr>\n",
       "      <th>3</th>\n",
       "      <td>4</td>\n",
       "      <td>Paloma</td>\n",
       "      <td>J. Simpson</td>\n",
       "      <td>f</td>\n",
       "      <td>None</td>\n",
       "      <td>1989-03-14</td>\n",
       "    </tr>\n",
       "  </tbody>\n",
       "</table>\n",
       "</div>"
      ],
      "text/plain": [
       "   staff_number   fname       lname gender joining  birth_date\n",
       "0             1   Homer  J. Simpson      m    None  1955-05-05\n",
       "1             2   Homer  J. Simpson      m    None  1961-10-25\n",
       "2             3   Edgar    Preciado      m    None  1955-08-17\n",
       "3             4  Paloma  J. Simpson      f    None  1989-03-14"
      ]
     },
     "execution_count": 68,
     "metadata": {},
     "output_type": "execute_result"
    }
   ],
   "source": [
    "df = pd.read_sql_query(\"select * from boss limit 4;\", conn)\n",
    "df"
   ]
  },
  {
   "cell_type": "code",
   "execution_count": 69,
   "metadata": {},
   "outputs": [
    {
     "data": {
      "text/html": [
       "<div>\n",
       "<style scoped>\n",
       "    .dataframe tbody tr th:only-of-type {\n",
       "        vertical-align: middle;\n",
       "    }\n",
       "\n",
       "    .dataframe tbody tr th {\n",
       "        vertical-align: top;\n",
       "    }\n",
       "\n",
       "    .dataframe thead th {\n",
       "        text-align: right;\n",
       "    }\n",
       "</style>\n",
       "<table border=\"1\" class=\"dataframe\">\n",
       "  <thead>\n",
       "    <tr style=\"text-align: right;\">\n",
       "      <th></th>\n",
       "      <th>staff_number</th>\n",
       "    </tr>\n",
       "  </thead>\n",
       "  <tbody>\n",
       "    <tr>\n",
       "      <th>count</th>\n",
       "      <td>4.000000</td>\n",
       "    </tr>\n",
       "    <tr>\n",
       "      <th>mean</th>\n",
       "      <td>2.500000</td>\n",
       "    </tr>\n",
       "    <tr>\n",
       "      <th>std</th>\n",
       "      <td>1.290994</td>\n",
       "    </tr>\n",
       "    <tr>\n",
       "      <th>min</th>\n",
       "      <td>1.000000</td>\n",
       "    </tr>\n",
       "    <tr>\n",
       "      <th>25%</th>\n",
       "      <td>1.750000</td>\n",
       "    </tr>\n",
       "    <tr>\n",
       "      <th>50%</th>\n",
       "      <td>2.500000</td>\n",
       "    </tr>\n",
       "    <tr>\n",
       "      <th>75%</th>\n",
       "      <td>3.250000</td>\n",
       "    </tr>\n",
       "    <tr>\n",
       "      <th>max</th>\n",
       "      <td>4.000000</td>\n",
       "    </tr>\n",
       "  </tbody>\n",
       "</table>\n",
       "</div>"
      ],
      "text/plain": [
       "       staff_number\n",
       "count      4.000000\n",
       "mean       2.500000\n",
       "std        1.290994\n",
       "min        1.000000\n",
       "25%        1.750000\n",
       "50%        2.500000\n",
       "75%        3.250000\n",
       "max        4.000000"
      ]
     },
     "execution_count": 69,
     "metadata": {},
     "output_type": "execute_result"
    }
   ],
   "source": [
    "df.describe()"
   ]
  },
  {
   "cell_type": "code",
   "execution_count": 73,
   "metadata": {},
   "outputs": [
    {
     "ename": "OperationalError",
     "evalue": "table dealers already exists",
     "output_type": "error",
     "traceback": [
      "\u001b[0;31m---------------------------------------------------------------------------\u001b[0m",
      "\u001b[0;31mOperationalError\u001b[0m                          Traceback (most recent call last)",
      "\u001b[0;32m<ipython-input-73-6395c3ece8d0>\u001b[0m in \u001b[0;36m<module>\u001b[0;34m\u001b[0m\n\u001b[1;32m      9\u001b[0m birth_date DATE);\"\"\"\n\u001b[1;32m     10\u001b[0m \u001b[0;31m#ejecutar el comando en sql\u001b[0m\u001b[0;34m\u001b[0m\u001b[0;34m\u001b[0m\u001b[0;34m\u001b[0m\u001b[0m\n\u001b[0;32m---> 11\u001b[0;31m \u001b[0mcur\u001b[0m\u001b[0;34m.\u001b[0m\u001b[0mexecute\u001b[0m\u001b[0;34m(\u001b[0m\u001b[0msql_command\u001b[0m\u001b[0;34m)\u001b[0m\u001b[0;34m\u001b[0m\u001b[0;34m\u001b[0m\u001b[0m\n\u001b[0m",
      "\u001b[0;31mOperationalError\u001b[0m: table dealers already exists"
     ]
    }
   ],
   "source": [
    "sql_command = \"\"\"\n",
    "CREATE TABLE dealers ( \n",
    "staff_number INTEGER PRIMARY KEY,\n",
    "salario INTEGER NOT NULL,\n",
    "fname VARCHAR(20), \n",
    "lname VARCHAR(30), \n",
    "gender CHAR(1), \n",
    "joining DATE,\n",
    "birth_date DATE);\"\"\"\n",
    "#ejecutar el comando en sql\n",
    "cur.execute(sql_command)"
   ]
  },
  {
   "cell_type": "code",
   "execution_count": 75,
   "metadata": {},
   "outputs": [],
   "source": [
    "staff_data = [ (2,5, \"Homer\", \"J. Simpson\", \"m\", \"1961-10-25\"),\n",
    "               (3,7,\"Edgar\", \"Preciado\", \"m\", \"1955-08-17\"),\n",
    "               (4,9,\"Paloma\", \"J. Simpson\", \"f\", \"1989-03-14\")]\n",
    "               \n",
    "for p in staff_data:\n",
    "    format_str = \"\"\"INSERT INTO dealers (staff_number,salario, fname, lname, gender, birth_date)\n",
    "    VALUES (\"{numero1}\",\"{numero2}\", \"{first}\", \"{last}\", \"{gender}\", \"{birthdate}\");\"\"\"\n",
    "\n",
    "    sql_command = format_str.format(numero1=p[0],numero2=p[1],first=p[2], last=p[3], gender=p[4], birthdate = p[5])\n",
    "    cur.execute(sql_command)"
   ]
  },
  {
   "cell_type": "code",
   "execution_count": 76,
   "metadata": {},
   "outputs": [
    {
     "data": {
      "text/html": [
       "<div>\n",
       "<style scoped>\n",
       "    .dataframe tbody tr th:only-of-type {\n",
       "        vertical-align: middle;\n",
       "    }\n",
       "\n",
       "    .dataframe tbody tr th {\n",
       "        vertical-align: top;\n",
       "    }\n",
       "\n",
       "    .dataframe thead th {\n",
       "        text-align: right;\n",
       "    }\n",
       "</style>\n",
       "<table border=\"1\" class=\"dataframe\">\n",
       "  <thead>\n",
       "    <tr style=\"text-align: right;\">\n",
       "      <th></th>\n",
       "      <th>staff_number</th>\n",
       "      <th>salario</th>\n",
       "      <th>fname</th>\n",
       "      <th>lname</th>\n",
       "      <th>gender</th>\n",
       "      <th>joining</th>\n",
       "      <th>birth_date</th>\n",
       "    </tr>\n",
       "  </thead>\n",
       "  <tbody>\n",
       "    <tr>\n",
       "      <th>0</th>\n",
       "      <td>2</td>\n",
       "      <td>5</td>\n",
       "      <td>Homer</td>\n",
       "      <td>J. Simpson</td>\n",
       "      <td>m</td>\n",
       "      <td>None</td>\n",
       "      <td>1961-10-25</td>\n",
       "    </tr>\n",
       "    <tr>\n",
       "      <th>1</th>\n",
       "      <td>3</td>\n",
       "      <td>7</td>\n",
       "      <td>Edgar</td>\n",
       "      <td>Preciado</td>\n",
       "      <td>m</td>\n",
       "      <td>None</td>\n",
       "      <td>1955-08-17</td>\n",
       "    </tr>\n",
       "    <tr>\n",
       "      <th>2</th>\n",
       "      <td>4</td>\n",
       "      <td>9</td>\n",
       "      <td>Paloma</td>\n",
       "      <td>J. Simpson</td>\n",
       "      <td>f</td>\n",
       "      <td>None</td>\n",
       "      <td>1989-03-14</td>\n",
       "    </tr>\n",
       "  </tbody>\n",
       "</table>\n",
       "</div>"
      ],
      "text/plain": [
       "   staff_number  salario   fname       lname gender joining  birth_date\n",
       "0             2        5   Homer  J. Simpson      m    None  1961-10-25\n",
       "1             3        7   Edgar    Preciado      m    None  1955-08-17\n",
       "2             4        9  Paloma  J. Simpson      f    None  1989-03-14"
      ]
     },
     "execution_count": 76,
     "metadata": {},
     "output_type": "execute_result"
    }
   ],
   "source": [
    "df1 = pd.read_sql_query(\"select * from dealers limit 4;\", conn)\n",
    "df1"
   ]
  },
  {
   "cell_type": "code",
   "execution_count": 77,
   "metadata": {},
   "outputs": [
    {
     "data": {
      "text/html": [
       "<div>\n",
       "<style scoped>\n",
       "    .dataframe tbody tr th:only-of-type {\n",
       "        vertical-align: middle;\n",
       "    }\n",
       "\n",
       "    .dataframe tbody tr th {\n",
       "        vertical-align: top;\n",
       "    }\n",
       "\n",
       "    .dataframe thead th {\n",
       "        text-align: right;\n",
       "    }\n",
       "</style>\n",
       "<table border=\"1\" class=\"dataframe\">\n",
       "  <thead>\n",
       "    <tr style=\"text-align: right;\">\n",
       "      <th></th>\n",
       "      <th>staff_number</th>\n",
       "      <th>salario</th>\n",
       "    </tr>\n",
       "  </thead>\n",
       "  <tbody>\n",
       "    <tr>\n",
       "      <th>count</th>\n",
       "      <td>3.0</td>\n",
       "      <td>3.0</td>\n",
       "    </tr>\n",
       "    <tr>\n",
       "      <th>mean</th>\n",
       "      <td>3.0</td>\n",
       "      <td>7.0</td>\n",
       "    </tr>\n",
       "    <tr>\n",
       "      <th>std</th>\n",
       "      <td>1.0</td>\n",
       "      <td>2.0</td>\n",
       "    </tr>\n",
       "    <tr>\n",
       "      <th>min</th>\n",
       "      <td>2.0</td>\n",
       "      <td>5.0</td>\n",
       "    </tr>\n",
       "    <tr>\n",
       "      <th>25%</th>\n",
       "      <td>2.5</td>\n",
       "      <td>6.0</td>\n",
       "    </tr>\n",
       "    <tr>\n",
       "      <th>50%</th>\n",
       "      <td>3.0</td>\n",
       "      <td>7.0</td>\n",
       "    </tr>\n",
       "    <tr>\n",
       "      <th>75%</th>\n",
       "      <td>3.5</td>\n",
       "      <td>8.0</td>\n",
       "    </tr>\n",
       "    <tr>\n",
       "      <th>max</th>\n",
       "      <td>4.0</td>\n",
       "      <td>9.0</td>\n",
       "    </tr>\n",
       "  </tbody>\n",
       "</table>\n",
       "</div>"
      ],
      "text/plain": [
       "       staff_number  salario\n",
       "count           3.0      3.0\n",
       "mean            3.0      7.0\n",
       "std             1.0      2.0\n",
       "min             2.0      5.0\n",
       "25%             2.5      6.0\n",
       "50%             3.0      7.0\n",
       "75%             3.5      8.0\n",
       "max             4.0      9.0"
      ]
     },
     "execution_count": 77,
     "metadata": {},
     "output_type": "execute_result"
    }
   ],
   "source": [
    "df1.describe()"
   ]
  },
  {
   "cell_type": "code",
   "execution_count": 81,
   "metadata": {},
   "outputs": [
    {
     "data": {
      "text/plain": [
       "0    5\n",
       "1    7\n",
       "2    9\n",
       "Name: salario, dtype: int64"
      ]
     },
     "execution_count": 81,
     "metadata": {},
     "output_type": "execute_result"
    }
   ],
   "source": [
    "df1.salario"
   ]
  },
  {
   "cell_type": "code",
   "execution_count": 84,
   "metadata": {},
   "outputs": [
    {
     "data": {
      "text/plain": [
       "7    1\n",
       "9    1\n",
       "5    1\n",
       "Name: salario, dtype: int64"
      ]
     },
     "execution_count": 84,
     "metadata": {},
     "output_type": "execute_result"
    }
   ],
   "source": [
    "df1['salario'].value_counts()"
   ]
  },
  {
   "cell_type": "code",
   "execution_count": 85,
   "metadata": {},
   "outputs": [],
   "source": [
    "conn.commit()\n",
    "conn.close()"
   ]
  },
  {
   "cell_type": "code",
   "execution_count": null,
   "metadata": {},
   "outputs": [],
   "source": []
  }
 ],
 "metadata": {
  "kernelspec": {
   "display_name": "Python 3",
   "language": "python",
   "name": "python3"
  },
  "language_info": {
   "codemirror_mode": {
    "name": "ipython",
    "version": 3
   },
   "file_extension": ".py",
   "mimetype": "text/x-python",
   "name": "python",
   "nbconvert_exporter": "python",
   "pygments_lexer": "ipython3",
   "version": "3.7.7"
  }
 },
 "nbformat": 4,
 "nbformat_minor": 4
}
